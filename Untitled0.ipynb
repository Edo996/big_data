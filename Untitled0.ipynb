{
  "nbformat": 4,
  "nbformat_minor": 0,
  "metadata": {
    "colab": {
      "name": "Untitled0.ipynb",
      "provenance": [],
      "authorship_tag": "ABX9TyNHW5H4Ks27uJETXbEOrDfJ",
      "include_colab_link": true
    },
    "kernelspec": {
      "name": "python3",
      "display_name": "Python 3"
    }
  },
  "cells": [
    {
      "cell_type": "markdown",
      "metadata": {
        "id": "view-in-github",
        "colab_type": "text"
      },
      "source": [
        "<a href=\"https://colab.research.google.com/github/Edo996/big_data/blob/master/Untitled0.ipynb\" target=\"_parent\"><img src=\"https://colab.research.google.com/assets/colab-badge.svg\" alt=\"Open In Colab\"/></a>"
      ]
    },
    {
      "cell_type": "code",
      "metadata": {
        "id": "_3lTw_B-n8i7",
        "colab_type": "code",
        "colab": {
          "base_uri": "https://localhost:8080/",
          "height": 927
        },
        "outputId": "bc13cfc4-948c-4167-f444-ec03c4edc882"
      },
      "source": [
        "#general imports\n",
        "import numpy as np\n",
        "import pdb\n",
        "\n",
        "#keras imports\n",
        "#import keras\n",
        "from keras.models import Sequential\n",
        "from keras.layers import Dense\n",
        "from keras.utils import to_categorical\n",
        "\n",
        "import warnings\n",
        "\n",
        "with warnings.catch_warnings():\n",
        "    warnings.filterwarnings(\"ignore\",category=DeprecationWarning)\n",
        "\n",
        "input_dim = 784\n",
        "\n",
        "model = Sequential()\n",
        "model.add(Dense(32, activation='relu', input_dim=input_dim))\n",
        "model.add(Dense(10, activation='softmax'))\n",
        "model.compile(optimizer='sgd', loss='categorical_crossentropy', metrics=['accuracy'])\n",
        "\n",
        "model.summary()\n",
        "\n",
        "data = np.random.randint(255, size=(60000, input_dim))\n",
        "labels = np.random.randint(10, size=(60000, 1))\n",
        "\n",
        "data = data/255.0\n",
        "\n",
        "labels = to_categorical(labels, num_classes=10)\n",
        "\n",
        "model.fit(data, labels, validation_split = 0.2, epochs=10, batch_size=32)\n"
      ],
      "execution_count": 13,
      "outputs": [
        {
          "output_type": "stream",
          "text": [
            "Model: \"sequential_7\"\n",
            "_________________________________________________________________\n",
            "Layer (type)                 Output Shape              Param #   \n",
            "=================================================================\n",
            "dense_11 (Dense)             (None, 32)                25120     \n",
            "_________________________________________________________________\n",
            "dense_12 (Dense)             (None, 10)                330       \n",
            "=================================================================\n",
            "Total params: 25,450\n",
            "Trainable params: 25,450\n",
            "Non-trainable params: 0\n",
            "_________________________________________________________________\n",
            "WARNING:tensorflow:From /usr/local/lib/python3.6/dist-packages/tensorflow_core/python/ops/math_grad.py:1424: where (from tensorflow.python.ops.array_ops) is deprecated and will be removed in a future version.\n",
            "Instructions for updating:\n",
            "Use tf.where in 2.0, which has the same broadcast rule as np.where\n",
            "WARNING:tensorflow:From /usr/local/lib/python3.6/dist-packages/keras/backend/tensorflow_backend.py:1033: The name tf.assign_add is deprecated. Please use tf.compat.v1.assign_add instead.\n",
            "\n",
            "WARNING:tensorflow:From /usr/local/lib/python3.6/dist-packages/keras/backend/tensorflow_backend.py:1020: The name tf.assign is deprecated. Please use tf.compat.v1.assign instead.\n",
            "\n",
            "WARNING:tensorflow:From /usr/local/lib/python3.6/dist-packages/keras/backend/tensorflow_backend.py:3005: The name tf.Session is deprecated. Please use tf.compat.v1.Session instead.\n",
            "\n",
            "Train on 48000 samples, validate on 12000 samples\n",
            "Epoch 1/10\n",
            "WARNING:tensorflow:From /usr/local/lib/python3.6/dist-packages/keras/backend/tensorflow_backend.py:190: The name tf.get_default_session is deprecated. Please use tf.compat.v1.get_default_session instead.\n",
            "\n",
            "WARNING:tensorflow:From /usr/local/lib/python3.6/dist-packages/keras/backend/tensorflow_backend.py:197: The name tf.ConfigProto is deprecated. Please use tf.compat.v1.ConfigProto instead.\n",
            "\n",
            "WARNING:tensorflow:From /usr/local/lib/python3.6/dist-packages/keras/backend/tensorflow_backend.py:207: The name tf.global_variables is deprecated. Please use tf.compat.v1.global_variables instead.\n",
            "\n",
            "WARNING:tensorflow:From /usr/local/lib/python3.6/dist-packages/keras/backend/tensorflow_backend.py:216: The name tf.is_variable_initialized is deprecated. Please use tf.compat.v1.is_variable_initialized instead.\n",
            "\n",
            "WARNING:tensorflow:From /usr/local/lib/python3.6/dist-packages/keras/backend/tensorflow_backend.py:223: The name tf.variables_initializer is deprecated. Please use tf.compat.v1.variables_initializer instead.\n",
            "\n",
            "48000/48000 [==============================] - 3s 63us/step - loss: 2.3069 - acc: 0.1002 - val_loss: 2.3025 - val_acc: 0.1018\n",
            "Epoch 2/10\n",
            "48000/48000 [==============================] - 3s 53us/step - loss: 2.3026 - acc: 0.1022 - val_loss: 2.3027 - val_acc: 0.1012\n",
            "Epoch 3/10\n",
            "48000/48000 [==============================] - 3s 52us/step - loss: 2.3023 - acc: 0.1031 - val_loss: 2.3029 - val_acc: 0.1042\n",
            "Epoch 4/10\n",
            "48000/48000 [==============================] - 3s 53us/step - loss: 2.3022 - acc: 0.1046 - val_loss: 2.3027 - val_acc: 0.1001\n",
            "Epoch 5/10\n",
            "48000/48000 [==============================] - 3s 53us/step - loss: 2.3019 - acc: 0.1029 - val_loss: 2.3029 - val_acc: 0.1036\n",
            "Epoch 6/10\n",
            "48000/48000 [==============================] - 2s 50us/step - loss: 2.3017 - acc: 0.1037 - val_loss: 2.3027 - val_acc: 0.1014\n",
            "Epoch 7/10\n",
            "48000/48000 [==============================] - 2s 50us/step - loss: 2.3013 - acc: 0.1062 - val_loss: 2.3030 - val_acc: 0.1017\n",
            "Epoch 8/10\n",
            "48000/48000 [==============================] - 2s 50us/step - loss: 2.3010 - acc: 0.1061 - val_loss: 2.3030 - val_acc: 0.1019\n",
            "Epoch 9/10\n",
            "48000/48000 [==============================] - 2s 50us/step - loss: 2.3005 - acc: 0.1079 - val_loss: 2.3030 - val_acc: 0.1019\n",
            "Epoch 10/10\n",
            "48000/48000 [==============================] - 2s 50us/step - loss: 2.2999 - acc: 0.1102 - val_loss: 2.3045 - val_acc: 0.0976\n"
          ],
          "name": "stdout"
        },
        {
          "output_type": "execute_result",
          "data": {
            "text/plain": [
              "<keras.callbacks.History at 0x7fb91c42ef28>"
            ]
          },
          "metadata": {
            "tags": []
          },
          "execution_count": 13
        }
      ]
    }
  ]
}